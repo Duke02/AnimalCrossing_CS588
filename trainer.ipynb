{
 "cells": [
  {
   "cell_type": "code",
   "execution_count": 1,
   "metadata": {},
   "outputs": [],
   "source": [
    "from get_data import get_structured_data\n",
    "import utility\n",
    "from classifiers import *\n",
    "from sklearn.model_selection import train_test_split\n",
    "from constants import RANDOM_STATE, CV\n",
    "from sklearn.model_selection import GridSearchCV"
   ]
  },
  {
   "cell_type": "code",
   "execution_count": 2,
   "metadata": {},
   "outputs": [
    {
     "data": {
      "text/plain": [
       "((310, 12), (310, 1))"
      ]
     },
     "execution_count": 2,
     "metadata": {},
     "output_type": "execute_result"
    }
   ],
   "source": [
    "rows = get_structured_data()\n",
    "all_X, all_y = utility.get_all_data(rows)\n",
    "all_X.shape, all_y.shape"
   ]
  },
  {
   "cell_type": "code",
   "execution_count": 3,
   "metadata": {},
   "outputs": [
    {
     "data": {
      "text/plain": [
       "((25, 12), (25, 1))"
      ]
     },
     "execution_count": 3,
     "metadata": {},
     "output_type": "execute_result"
    }
   ],
   "source": [
    "perfect_x, perfect_y = utility.get_perfect_data(rows)\n",
    "perfect_x.shape, perfect_y.shape"
   ]
  },
  {
   "cell_type": "code",
   "execution_count": 4,
   "metadata": {},
   "outputs": [],
   "source": [
    "classifiers = [get_linear_svm_classifier(), get_rbf_svm_classifier(), get_naive_bayes_classifier(), get_random_forest_classifier()]"
   ]
  },
  {
   "cell_type": "code",
   "execution_count": 5,
   "metadata": {},
   "outputs": [],
   "source": [
    "def train_classifier(class_name, classifier, params, train_x, train_y, test_x, test_y, cv, save_model=True):\n",
    "    print(f'Optimizing parameters...')\n",
    "    param_keys = '\\n'.join([k for k in params.keys()])\n",
    "    print(f'List of parameters: \\n{param_keys}')\n",
    "    grid = GridSearchCV(classifier, params, cv=cv)\n",
    "    grid.fit(train_x, train_y)\n",
    "    model = grid.best_estimator_\n",
    "    print(f'Optimal Parameters Found to be: ')\n",
    "    print('\\n'.join([f'{k}: {v}' for k, v in grid.best_params_.items()]))\n",
    "    \n",
    "    model.fit(train_x, train_y)\n",
    "    \n",
    "    print(f'Testing Classifier with {test_x.shape[0]} samples.')\n",
    "    y_pred = model.predict(test_x)\n",
    "    n_tests = test_y.shape[0]\n",
    "    num_wrong = (y_pred != test_y).sum()\n",
    "    \n",
    "    if save_model:\n",
    "        filepath, _ = utility.save_model(class_name, model)\n",
    "        print(f'Model was saved to: {filepath}')\n",
    "\n",
    "    print(f'Got {num_wrong}/{n_tests} ({num_wrong / n_tests:.2%}) tests wrong for {class_name}.')\n",
    "    \n",
    "    return num_wrong, n_tests"
   ]
  },
  {
   "cell_type": "code",
   "execution_count": 6,
   "metadata": {},
   "outputs": [],
   "source": [
    "def train_all_classifiers(X, y, train_percent, save_models=True):\n",
    "    train_x, test_x, train_y, test_y = train_test_split(X, y, train_size=train_percent, random_state=RANDOM_STATE)\n",
    "    cv = min(utility.get_max_cv(train_y), utility.get_max_cv(test_y))\n",
    "    print(f'Using CV: {cv}')\n",
    "    history = []\n",
    "    \n",
    "    train_y = train_y.reshape(-1)\n",
    "    test_y = test_y.reshape(-1)\n",
    "    \n",
    "    for class_name, classifier, params in classifiers:\n",
    "        print(f'Training/Testing {class_name}')\n",
    "        num_wrong, n_tests = train_classifier(class_name, classifier, params, train_x, train_y, test_x, test_y, cv, save_model=save_models)\n",
    "        history.append({'classifier': class_name, 'n_wrong': num_wrong, 'n_tests': n_tests, 'params': params})\n",
    "        print('')\n",
    "    \n",
    "    print('\\n'.join([[f'{k}: {v}\\n' for k, v in result.items()] for result in history]))"
   ]
  },
  {
   "cell_type": "code",
   "execution_count": 7,
   "metadata": {},
   "outputs": [
    {
     "name": "stdout",
     "output_type": "stream",
     "text": [
      "Using CV: 2\n",
      "Training/Testing Linear SVM\n",
      "Optimizing parameters...\n",
      "List of parameters: \n",
      "linearsvc__C\n",
      "linearsvc__fit_intercept\n",
      "linearsvc__tol\n",
      "Optimal Parameters Found to be: \n",
      "linearsvc__C: 0.125\n",
      "linearsvc__fit_intercept: True\n",
      "linearsvc__tol: 1e-06\n",
      "Testing Classifier with 19 samples.\n",
      "Model was saved to: ./models/LinearSVM_2020_10_28__142849.mdl\n",
      "Got 9/19 (47.37%) tests wrong for Linear SVM.\n",
      "\n",
      "Training/Testing RBF SVM\n",
      "Optimizing parameters...\n",
      "List of parameters: \n",
      "svc__gamma\n",
      "svc__shrinking\n",
      "svc__tol\n",
      "svc__C\n",
      "Optimal Parameters Found to be: \n",
      "svc__C: 0.125\n",
      "svc__gamma: scale\n",
      "svc__shrinking: True\n",
      "svc__tol: 1e-05\n",
      "Testing Classifier with 19 samples.\n",
      "Model was saved to: ./models/RBFSVM_2020_10_28__142851.mdl\n",
      "Got 10/19 (52.63%) tests wrong for RBF SVM.\n",
      "\n",
      "Training/Testing Naive Bayes\n",
      "Optimizing parameters...\n",
      "List of parameters: \n",
      "var_smoothing\n",
      "Optimal Parameters Found to be: \n",
      "var_smoothing: 1e-12\n",
      "Testing Classifier with 19 samples.\n",
      "Model was saved to: ./models/NaiveBayes_2020_10_28__142851.mdl\n",
      "Got 11/19 (57.89%) tests wrong for Naive Bayes.\n",
      "\n",
      "Training/Testing Random Forest\n",
      "Optimizing parameters...\n",
      "List of parameters: \n",
      "ccp_alpha\n",
      "max_features\n",
      "max_depth\n",
      "n_estimators\n",
      "Optimal Parameters Found to be: \n",
      "ccp_alpha: 0.01\n",
      "max_depth: None\n",
      "max_features: auto\n",
      "n_estimators: 50\n",
      "Testing Classifier with 19 samples.\n",
      "Model was saved to: ./models/RandomForest_2020_10_28__143317.mdl\n",
      "Got 8/19 (42.11%) tests wrong for Random Forest.\n",
      "\n"
     ]
    },
    {
     "ename": "TypeError",
     "evalue": "sequence item 0: expected str instance, list found",
     "output_type": "error",
     "traceback": [
      "\u001b[0;31m---------------------------------------------------------------------------\u001b[0m",
      "\u001b[0;31mTypeError\u001b[0m                                 Traceback (most recent call last)",
      "\u001b[0;32m<ipython-input-7-9a10cfc93811>\u001b[0m in \u001b[0;36m<module>\u001b[0;34m\u001b[0m\n\u001b[0;32m----> 1\u001b[0;31m \u001b[0mtrain_all_classifiers\u001b[0m\u001b[0;34m(\u001b[0m\u001b[0mperfect_x\u001b[0m\u001b[0;34m,\u001b[0m \u001b[0mperfect_y\u001b[0m\u001b[0;34m,\u001b[0m \u001b[0;36m.25\u001b[0m\u001b[0;34m)\u001b[0m\u001b[0;34m\u001b[0m\u001b[0;34m\u001b[0m\u001b[0m\n\u001b[0m",
      "\u001b[0;32m<ipython-input-6-9d57c262d603>\u001b[0m in \u001b[0;36mtrain_all_classifiers\u001b[0;34m(X, y, train_percent, save_models)\u001b[0m\n\u001b[1;32m     14\u001b[0m         \u001b[0mprint\u001b[0m\u001b[0;34m(\u001b[0m\u001b[0;34m''\u001b[0m\u001b[0;34m)\u001b[0m\u001b[0;34m\u001b[0m\u001b[0;34m\u001b[0m\u001b[0m\n\u001b[1;32m     15\u001b[0m \u001b[0;34m\u001b[0m\u001b[0m\n\u001b[0;32m---> 16\u001b[0;31m     \u001b[0mprint\u001b[0m\u001b[0;34m(\u001b[0m\u001b[0;34m'\\n'\u001b[0m\u001b[0;34m.\u001b[0m\u001b[0mjoin\u001b[0m\u001b[0;34m(\u001b[0m\u001b[0;34m[\u001b[0m\u001b[0;34m[\u001b[0m\u001b[0;34mf'{k}: {v}\\n'\u001b[0m \u001b[0;32mfor\u001b[0m \u001b[0mk\u001b[0m\u001b[0;34m,\u001b[0m \u001b[0mv\u001b[0m \u001b[0;32min\u001b[0m \u001b[0mresult\u001b[0m\u001b[0;34m.\u001b[0m\u001b[0mitems\u001b[0m\u001b[0;34m(\u001b[0m\u001b[0;34m)\u001b[0m\u001b[0;34m]\u001b[0m \u001b[0;32mfor\u001b[0m \u001b[0mresult\u001b[0m \u001b[0;32min\u001b[0m \u001b[0mhistory\u001b[0m\u001b[0;34m]\u001b[0m\u001b[0;34m)\u001b[0m\u001b[0;34m)\u001b[0m\u001b[0;34m\u001b[0m\u001b[0;34m\u001b[0m\u001b[0m\n\u001b[0m",
      "\u001b[0;31mTypeError\u001b[0m: sequence item 0: expected str instance, list found"
     ]
    }
   ],
   "source": [
    "train_all_classifiers(perfect_x, perfect_y, .25)"
   ]
  },
  {
   "cell_type": "code",
   "execution_count": null,
   "metadata": {},
   "outputs": [],
   "source": []
  }
 ],
 "metadata": {
  "kernelspec": {
   "display_name": "Python 3",
   "language": "python",
   "name": "python3"
  },
  "language_info": {
   "codemirror_mode": {
    "name": "ipython",
    "version": 3
   },
   "file_extension": ".py",
   "mimetype": "text/x-python",
   "name": "python",
   "nbconvert_exporter": "python",
   "pygments_lexer": "ipython3",
   "version": "3.8.5"
  }
 },
 "nbformat": 4,
 "nbformat_minor": 1
}
