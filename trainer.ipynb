{
 "cells": [
  {
   "cell_type": "code",
   "execution_count": 1,
   "metadata": {},
   "outputs": [],
   "source": [
    "from get_data import get_structured_data\n",
    "import utility\n",
    "from classifiers import *\n",
    "from sklearn.model_selection import train_test_split\n",
    "from constants import RANDOM_STATE, CV, MIN_NUM_PRICES\n",
    "from sklearn.model_selection import GridSearchCV\n",
    "from island_week_data import TurnipPattern"
   ]
  },
  {
   "cell_type": "code",
   "execution_count": 2,
   "metadata": {},
   "outputs": [
    {
     "data": {
      "text/plain": [
       "((83, 12), (83, 1))"
      ]
     },
     "execution_count": 2,
     "metadata": {},
     "output_type": "execute_result"
    }
   ],
   "source": [
    "rows = get_structured_data()\n",
    "all_X, _, all_y = utility.get_all_data(rows)\n",
    "all_X.shape, all_y.shape"
   ]
  },
  {
   "cell_type": "code",
   "execution_count": 3,
   "metadata": {},
   "outputs": [
    {
     "data": {
      "text/plain": [
       "((83, 12), (83, 1))"
      ]
     },
     "execution_count": 3,
     "metadata": {},
     "output_type": "execute_result"
    }
   ],
   "source": [
    "rows = get_structured_data()\n",
    "all_X, _, all_y = utility.get_all_data(rows)\n",
    "all_X.shape, all_y.shape"
   ]
  },
  {
   "cell_type": "code",
   "execution_count": 4,
   "metadata": {},
   "outputs": [
    {
     "data": {
      "text/plain": [
       "((25, 12), (25, 1))"
      ]
     },
     "execution_count": 4,
     "metadata": {},
     "output_type": "execute_result"
    }
   ],
   "source": [
    "perfect_x, _, perfect_y = utility.get_perfect_data(rows)\n",
    "perfect_x.shape, perfect_y.shape"
   ]
  },
  {
   "cell_type": "code",
   "execution_count": 5,
   "metadata": {},
   "outputs": [],
   "source": [
    "classifiers = [get_linear_svm_classifier(), get_rbf_svm_classifier(), get_naive_bayes_classifier(), get_random_forest_classifier()]"
   ]
  },
  {
   "cell_type": "code",
   "execution_count": 6,
   "metadata": {},
   "outputs": [],
   "source": [
    "# TODO: Copy the ROC stuff from Plotter to this cell\n",
    "# then save the sensitivity and specificity like you did in HW3\n",
    "# Taken from my HW 3\n",
    "def get_roc_stuff(prediction, truth):\n",
    "    n_classes = len([tp for tp in TurnipPattern])\n",
    "    # Shoutout to this person for helping me with this.\n",
    "    # https://kawahara.ca/how-to-compute-truefalse-positives-and-truefalse-negatives-in-python-for-binary-classification-problems/\n",
    "    true_positives = np.nan_to_num(np.asarray([np.logical_and(prediction == i, truth == i) \n",
    "                                               for i in range(n_classes)])).sum(axis=1)\n",
    "    false_positives = np.nan_to_num(np.asarray([np.logical_and(prediction == i, truth != i) \n",
    "                                                for i in range(n_classes)])).sum(axis=1)\n",
    "    true_negatives = np.nan_to_num(np.asarray([np.logical_and(prediction != i, truth != i) \n",
    "                                               for i in range(n_classes)])).sum(axis=1)\n",
    "    false_negatives = np.nan_to_num(np.asarray([np.logical_and(prediction != i, truth == i) \n",
    "                                                for i in range(n_classes)])).sum(axis=1)\n",
    "    sensitivity = np.nan_to_num(true_positives / (true_positives + false_positives))\n",
    "    specificity = np.nan_to_num(true_negatives / (true_negatives + false_negatives))\n",
    "    return sensitivity, specificity"
   ]
  },
  {
   "cell_type": "code",
   "execution_count": 7,
   "metadata": {},
   "outputs": [],
   "source": [
    "def train_classifier(class_name, classifier, params, train_x, train_y, test_x, test_y, cv, save_model=True):\n",
    "    print(f'Optimizing parameters...')\n",
    "    param_keys = '\\n'.join([k for k in params.keys()])\n",
    "    print(f'List of parameters: \\n{param_keys}')\n",
    "    grid = GridSearchCV(classifier, params, cv=cv, n_jobs=N_JOBS)\n",
    "    grid.fit(train_x, train_y)\n",
    "    model = grid.best_estimator_\n",
    "    print(f'Optimal Parameters Found to be: ')\n",
    "    print('\\n'.join([f'{k}: {v}' for k, v in grid.best_params_.items()]))\n",
    "    \n",
    "    model.fit(train_x, train_y)\n",
    "    \n",
    "    print(f'Testing Classifier with {test_x.shape[0]} samples.')\n",
    "    y_pred = model.predict(test_x)\n",
    "    n_tests = test_y.shape[0]\n",
    "    num_wrong = (y_pred != test_y).sum()\n",
    "    \n",
    "    if save_model:\n",
    "        filepath, _ = utility.save_model(class_name, model)\n",
    "        print(f'Model was saved to: {filepath}')\n",
    "\n",
    "    full_X = np.append(train_x, test_x, axis=0)\n",
    "    full_y = np.append(train_y, test_y, axis=0)\n",
    "    \n",
    "    pred_y = model.predict(full_X)\n",
    "    sens, spec = get_roc_stuff(pred_y, full_y)\n",
    "        \n",
    "    print(f'Got {num_wrong}/{n_tests} ({num_wrong / n_tests:.2%}) tests wrong for {class_name}.')\n",
    "    \n",
    "    return num_wrong, n_tests, np.average(sens), np.average(spec)"
   ]
  },
  {
   "cell_type": "code",
   "execution_count": 8,
   "metadata": {},
   "outputs": [],
   "source": [
    "def train_all_classifiers(X, y, train_percent, save_models=True):\n",
    "    cv = 1\n",
    "    n_iterations = 0\n",
    "    while cv == 1:\n",
    "        train_x, test_x, train_y, test_y = train_test_split(X, y, train_size=train_percent, random_state=RANDOM_STATE + n_iterations)\n",
    "        cv = utility.get_max_cv(train_y)\n",
    "        n_iterations += 1\n",
    "    print(f'Using CV: {cv}')\n",
    "    history = []\n",
    "    \n",
    "    train_y = train_y.reshape(-1)\n",
    "    test_y = test_y.reshape(-1)\n",
    "    \n",
    "    for class_name, classifier, params in classifiers:\n",
    "        print(f'Training/Testing {class_name}')\n",
    "        num_wrong, n_tests, sensitivity, specificity = train_classifier(class_name, classifier, params, train_x, train_y, test_x, test_y, cv, save_model=save_models)\n",
    "        best_params = {k: v for k, v in classifier.get_params().items() if k in params.keys()}\n",
    "        last_result = {'classifier': class_name, 'min_num_prices': MIN_NUM_PRICES, 'sensitivity': sensitivity, 'specificity': specificity, 'n_wrong': int(num_wrong), 'n_tests': int(n_tests), 'best_params': best_params, 'train_size': float(train_percent)}\n",
    "        history.append(last_result)\n",
    "        print('')\n",
    "    print('\\n'.join(['\\n'.join([f'{k}: {v}' for k, v in result.items()]) for result in history]))\n",
    "    return history"
   ]
  },
  {
   "cell_type": "code",
   "execution_count": 9,
   "metadata": {
    "scrolled": true
   },
   "outputs": [
    {
     "name": "stdout",
     "output_type": "stream",
     "text": [
      "Using CV: 2\n",
      "Training/Testing Linear SVM\n",
      "Optimizing parameters...\n",
      "List of parameters: \n",
      "linearsvc__C\n",
      "linearsvc__fit_intercept\n",
      "linearsvc__tol\n",
      "Optimal Parameters Found to be: \n",
      "linearsvc__C: 0.22499999999999998\n",
      "linearsvc__fit_intercept: False\n",
      "linearsvc__tol: 1e-06\n",
      "Testing Classifier with 75 samples.\n",
      "Model was saved to: ./models/LinearSVM_20201123_194910.mdl\n",
      "Got 36/75 (48.00%) tests wrong for Linear SVM.\n",
      "\n",
      "Training/Testing RBF SVM\n",
      "Optimizing parameters...\n",
      "List of parameters: \n",
      "svc__gamma\n",
      "svc__shrinking\n",
      "svc__tol\n",
      "svc__C\n"
     ]
    },
    {
     "name": "stderr",
     "output_type": "stream",
     "text": [
      "<ipython-input-6-e6060f77009d>:16: RuntimeWarning: invalid value encountered in true_divide\n",
      "  sensitivity = np.nan_to_num(true_positives / (true_positives + false_positives))\n"
     ]
    },
    {
     "name": "stdout",
     "output_type": "stream",
     "text": [
      "Optimal Parameters Found to be: \n",
      "svc__C: 0.125\n",
      "svc__gamma: scale\n",
      "svc__shrinking: True\n",
      "svc__tol: 1e-05\n",
      "Testing Classifier with 75 samples.\n",
      "Model was saved to: ./models/RBFSVM_20201123_194911.mdl\n",
      "Got 37/75 (49.33%) tests wrong for RBF SVM.\n",
      "\n",
      "Training/Testing Naive Bayes\n",
      "Optimizing parameters...\n",
      "List of parameters: \n",
      "var_smoothing\n",
      "Optimal Parameters Found to be: \n",
      "var_smoothing: 1e-12\n",
      "Testing Classifier with 75 samples.\n",
      "Model was saved to: ./models/NaiveBayes_20201123_194911.mdl\n",
      "Got 39/75 (52.00%) tests wrong for Naive Bayes.\n",
      "\n",
      "Training/Testing Random Forest\n",
      "Optimizing parameters...\n",
      "List of parameters: \n",
      "ccp_alpha\n",
      "max_features\n",
      "max_depth\n",
      "n_estimators\n"
     ]
    },
    {
     "name": "stderr",
     "output_type": "stream",
     "text": [
      "<ipython-input-6-e6060f77009d>:16: RuntimeWarning: invalid value encountered in true_divide\n",
      "  sensitivity = np.nan_to_num(true_positives / (true_positives + false_positives))\n",
      "<ipython-input-6-e6060f77009d>:17: RuntimeWarning: invalid value encountered in true_divide\n",
      "  specificity = np.nan_to_num(true_negatives / (true_negatives + false_negatives))\n",
      "<ipython-input-6-e6060f77009d>:16: RuntimeWarning: invalid value encountered in true_divide\n",
      "  sensitivity = np.nan_to_num(true_positives / (true_positives + false_positives))\n"
     ]
    },
    {
     "name": "stdout",
     "output_type": "stream",
     "text": [
      "Optimal Parameters Found to be: \n",
      "ccp_alpha: 0.01\n",
      "max_depth: None\n",
      "max_features: auto\n",
      "n_estimators: 50\n",
      "Testing Classifier with 75 samples.\n",
      "Model was saved to: ./models/RandomForest_20201123_195104.mdl\n",
      "Got 39/75 (52.00%) tests wrong for Random Forest.\n",
      "\n",
      "classifier: Linear SVM\n",
      "min_num_prices: 11\n",
      "sensitivity: 0.25609756097560976\n",
      "specificity: 0.9274169850132236\n",
      "n_wrong: 36\n",
      "n_tests: 75\n",
      "best_params: {'linearsvc__C': 1.0, 'linearsvc__fit_intercept': True, 'linearsvc__tol': 0.0001}\n",
      "train_size: 0.1\n",
      "classifier: RBF SVM\n",
      "min_num_prices: 11\n",
      "sensitivity: 0.08835341365461848\n",
      "specificity: 0.7590361445783133\n",
      "n_wrong: 37\n",
      "n_tests: 75\n",
      "best_params: {'svc__C': 1.0, 'svc__gamma': 'scale', 'svc__shrinking': True, 'svc__tol': 0.001}\n",
      "train_size: 0.1\n",
      "classifier: Naive Bayes\n",
      "min_num_prices: 11\n",
      "sensitivity: 0.15914786967418545\n",
      "specificity: 0.8346393091161639\n",
      "n_wrong: 39\n",
      "n_tests: 75\n",
      "best_params: {'var_smoothing': 1e-09}\n",
      "train_size: 0.1\n",
      "classifier: Random Forest\n",
      "min_num_prices: 11\n",
      "sensitivity: 0.17009320175438594\n",
      "specificity: 0.8624431938279433\n",
      "n_wrong: 39\n",
      "n_tests: 75\n",
      "best_params: {'ccp_alpha': 0.0, 'max_depth': None, 'max_features': 'auto', 'n_estimators': 100}\n",
      "train_size: 0.1\n",
      "\n",
      "Using CV: 5\n",
      "Training/Testing Linear SVM\n",
      "Optimizing parameters...\n",
      "List of parameters: \n",
      "linearsvc__C\n",
      "linearsvc__fit_intercept\n",
      "linearsvc__tol\n"
     ]
    },
    {
     "name": "stderr",
     "output_type": "stream",
     "text": [
      "<ipython-input-6-e6060f77009d>:16: RuntimeWarning: invalid value encountered in true_divide\n",
      "  sensitivity = np.nan_to_num(true_positives / (true_positives + false_positives))\n"
     ]
    },
    {
     "name": "stdout",
     "output_type": "stream",
     "text": [
      "Optimal Parameters Found to be: \n",
      "linearsvc__C: 0.125\n",
      "linearsvc__fit_intercept: True\n",
      "linearsvc__tol: 1e-06\n",
      "Testing Classifier with 67 samples.\n",
      "Model was saved to: ./models/LinearSVM_20201123_195104.mdl\n",
      "Got 33/67 (49.25%) tests wrong for Linear SVM.\n",
      "\n",
      "Training/Testing RBF SVM\n",
      "Optimizing parameters...\n",
      "List of parameters: \n",
      "svc__gamma\n",
      "svc__shrinking\n",
      "svc__tol\n",
      "svc__C\n"
     ]
    },
    {
     "name": "stderr",
     "output_type": "stream",
     "text": [
      "<ipython-input-6-e6060f77009d>:16: RuntimeWarning: invalid value encountered in true_divide\n",
      "  sensitivity = np.nan_to_num(true_positives / (true_positives + false_positives))\n"
     ]
    },
    {
     "name": "stdout",
     "output_type": "stream",
     "text": [
      "Optimal Parameters Found to be: \n",
      "svc__C: 0.125\n",
      "svc__gamma: scale\n",
      "svc__shrinking: True\n",
      "svc__tol: 1e-05\n",
      "Testing Classifier with 67 samples.\n",
      "Model was saved to: ./models/RBFSVM_20201123_195106.mdl\n",
      "Got 34/67 (50.75%) tests wrong for RBF SVM.\n",
      "\n",
      "Training/Testing Naive Bayes\n",
      "Optimizing parameters...\n",
      "List of parameters: \n",
      "var_smoothing\n",
      "Optimal Parameters Found to be: \n",
      "var_smoothing: 1e-12\n",
      "Testing Classifier with 67 samples.\n",
      "Model was saved to: ./models/NaiveBayes_20201123_195106.mdl\n",
      "Got 36/67 (53.73%) tests wrong for Naive Bayes.\n",
      "\n",
      "Training/Testing Random Forest\n",
      "Optimizing parameters...\n",
      "List of parameters: \n",
      "ccp_alpha\n",
      "max_features\n",
      "max_depth\n",
      "n_estimators\n"
     ]
    },
    {
     "name": "stderr",
     "output_type": "stream",
     "text": [
      "<ipython-input-6-e6060f77009d>:16: RuntimeWarning: invalid value encountered in true_divide\n",
      "  sensitivity = np.nan_to_num(true_positives / (true_positives + false_positives))\n",
      "<ipython-input-6-e6060f77009d>:17: RuntimeWarning: invalid value encountered in true_divide\n",
      "  specificity = np.nan_to_num(true_negatives / (true_negatives + false_negatives))\n",
      "<ipython-input-6-e6060f77009d>:16: RuntimeWarning: invalid value encountered in true_divide\n",
      "  sensitivity = np.nan_to_num(true_positives / (true_positives + false_positives))\n"
     ]
    },
    {
     "name": "stdout",
     "output_type": "stream",
     "text": [
      "Optimal Parameters Found to be: \n",
      "ccp_alpha: 0.01\n",
      "max_depth: None\n",
      "max_features: auto\n",
      "n_estimators: 60\n",
      "Testing Classifier with 67 samples.\n",
      "Model was saved to: ./models/RandomForest_20201123_195556.mdl\n",
      "Got 39/67 (58.21%) tests wrong for Random Forest.\n",
      "\n",
      "classifier: Linear SVM\n",
      "min_num_prices: 11\n",
      "sensitivity: 0.25609756097560976\n",
      "specificity: 0.9274169850132236\n",
      "n_wrong: 33\n",
      "n_tests: 67\n",
      "best_params: {'linearsvc__C': 1.0, 'linearsvc__fit_intercept': True, 'linearsvc__tol': 0.0001}\n",
      "train_size: 0.2\n",
      "classifier: RBF SVM\n",
      "min_num_prices: 11\n",
      "sensitivity: 0.08835341365461848\n",
      "specificity: 0.7590361445783133\n",
      "n_wrong: 34\n",
      "n_tests: 67\n",
      "best_params: {'svc__C': 1.0, 'svc__gamma': 'scale', 'svc__shrinking': True, 'svc__tol': 0.001}\n",
      "train_size: 0.2\n",
      "classifier: Naive Bayes\n",
      "min_num_prices: 11\n",
      "sensitivity: 0.18578980099502487\n",
      "specificity: 0.8689403134927772\n",
      "n_wrong: 36\n",
      "n_tests: 67\n",
      "best_params: {'var_smoothing': 1e-09}\n",
      "train_size: 0.2\n",
      "classifier: Random Forest\n",
      "min_num_prices: 11\n",
      "sensitivity: 0.17288557213930347\n",
      "specificity: 0.8560360846370557\n",
      "n_wrong: 39\n",
      "n_tests: 67\n",
      "best_params: {'ccp_alpha': 0.0, 'max_depth': None, 'max_features': 'auto', 'n_estimators': 100}\n",
      "train_size: 0.2\n",
      "\n",
      "Using CV: 2\n",
      "Training/Testing Linear SVM\n",
      "Optimizing parameters...\n",
      "List of parameters: \n",
      "linearsvc__C\n",
      "linearsvc__fit_intercept\n",
      "linearsvc__tol\n"
     ]
    },
    {
     "name": "stderr",
     "output_type": "stream",
     "text": [
      "<ipython-input-6-e6060f77009d>:16: RuntimeWarning: invalid value encountered in true_divide\n",
      "  sensitivity = np.nan_to_num(true_positives / (true_positives + false_positives))\n"
     ]
    },
    {
     "name": "stdout",
     "output_type": "stream",
     "text": [
      "Optimal Parameters Found to be: \n",
      "linearsvc__C: 0.125\n",
      "linearsvc__fit_intercept: True\n",
      "linearsvc__tol: 1e-06\n",
      "Testing Classifier with 59 samples.\n",
      "Model was saved to: ./models/LinearSVM_20201123_195556.mdl\n",
      "Got 29/59 (49.15%) tests wrong for Linear SVM.\n",
      "\n",
      "Training/Testing RBF SVM\n",
      "Optimizing parameters...\n",
      "List of parameters: \n",
      "svc__gamma\n",
      "svc__shrinking\n",
      "svc__tol\n",
      "svc__C\n"
     ]
    },
    {
     "name": "stderr",
     "output_type": "stream",
     "text": [
      "<ipython-input-6-e6060f77009d>:16: RuntimeWarning: invalid value encountered in true_divide\n",
      "  sensitivity = np.nan_to_num(true_positives / (true_positives + false_positives))\n"
     ]
    },
    {
     "name": "stdout",
     "output_type": "stream",
     "text": [
      "Optimal Parameters Found to be: \n",
      "svc__C: 0.125\n",
      "svc__gamma: scale\n",
      "svc__shrinking: True\n",
      "svc__tol: 1e-05\n",
      "Testing Classifier with 59 samples.\n",
      "Model was saved to: ./models/RBFSVM_20201123_195557.mdl\n",
      "Got 24/59 (40.68%) tests wrong for RBF SVM.\n",
      "\n",
      "Training/Testing Naive Bayes\n",
      "Optimizing parameters...\n",
      "List of parameters: \n",
      "var_smoothing\n",
      "Optimal Parameters Found to be: \n",
      "var_smoothing: 1e-12\n",
      "Testing Classifier with 59 samples.\n",
      "Model was saved to: ./models/NaiveBayes_20201123_195557.mdl\n",
      "Got 34/59 (57.63%) tests wrong for Naive Bayes.\n",
      "\n",
      "Training/Testing Random Forest\n",
      "Optimizing parameters...\n",
      "List of parameters: \n",
      "ccp_alpha\n",
      "max_features\n",
      "max_depth\n",
      "n_estimators\n"
     ]
    },
    {
     "name": "stderr",
     "output_type": "stream",
     "text": [
      "<ipython-input-6-e6060f77009d>:16: RuntimeWarning: invalid value encountered in true_divide\n",
      "  sensitivity = np.nan_to_num(true_positives / (true_positives + false_positives))\n",
      "<ipython-input-6-e6060f77009d>:17: RuntimeWarning: invalid value encountered in true_divide\n",
      "  specificity = np.nan_to_num(true_negatives / (true_negatives + false_negatives))\n",
      "<ipython-input-6-e6060f77009d>:16: RuntimeWarning: invalid value encountered in true_divide\n",
      "  sensitivity = np.nan_to_num(true_positives / (true_positives + false_positives))\n"
     ]
    },
    {
     "name": "stdout",
     "output_type": "stream",
     "text": [
      "Optimal Parameters Found to be: \n",
      "ccp_alpha: 0.01\n",
      "max_depth: 3\n",
      "max_features: None\n",
      "n_estimators: 50\n",
      "Testing Classifier with 59 samples.\n",
      "Model was saved to: ./models/RandomForest_20201123_195752.mdl\n",
      "Got 28/59 (47.46%) tests wrong for Random Forest.\n",
      "\n",
      "classifier: Linear SVM\n",
      "min_num_prices: 11\n",
      "sensitivity: 0.31189083820662766\n",
      "specificity: 0.8626767741698501\n",
      "n_wrong: 29\n",
      "n_tests: 59\n",
      "best_params: {'linearsvc__C': 1.0, 'linearsvc__fit_intercept': True, 'linearsvc__tol': 0.0001}\n",
      "train_size: 0.30000000000000004\n",
      "classifier: RBF SVM\n",
      "min_num_prices: 11\n",
      "sensitivity: 0.08835341365461848\n",
      "specificity: 0.7590361445783133\n",
      "n_wrong: 24\n",
      "n_tests: 59\n",
      "best_params: {'svc__C': 1.0, 'svc__gamma': 'scale', 'svc__shrinking': True, 'svc__tol': 0.001}\n",
      "train_size: 0.30000000000000004\n",
      "classifier: Naive Bayes\n",
      "min_num_prices: 11\n",
      "sensitivity: 0.5118055555555555\n",
      "specificity: 0.8849863402150984\n",
      "n_wrong: 34\n",
      "n_tests: 59\n",
      "best_params: {'var_smoothing': 1e-09}\n",
      "train_size: 0.30000000000000004\n",
      "classifier: Random Forest\n",
      "min_num_prices: 11\n",
      "sensitivity: 0.6360838779956427\n",
      "specificity: 0.9117865079081756\n",
      "n_wrong: 28\n",
      "n_tests: 59\n",
      "best_params: {'ccp_alpha': 0.0, 'max_depth': None, 'max_features': 'auto', 'n_estimators': 100}\n",
      "train_size: 0.30000000000000004\n",
      "\n",
      "Using CV: 2\n",
      "Training/Testing Linear SVM\n",
      "Optimizing parameters...\n",
      "List of parameters: \n",
      "linearsvc__C\n",
      "linearsvc__fit_intercept\n",
      "linearsvc__tol\n"
     ]
    },
    {
     "name": "stderr",
     "output_type": "stream",
     "text": [
      "<ipython-input-6-e6060f77009d>:16: RuntimeWarning: invalid value encountered in true_divide\n",
      "  sensitivity = np.nan_to_num(true_positives / (true_positives + false_positives))\n"
     ]
    },
    {
     "name": "stdout",
     "output_type": "stream",
     "text": [
      "Optimal Parameters Found to be: \n",
      "linearsvc__C: 0.125\n",
      "linearsvc__fit_intercept: True\n",
      "linearsvc__tol: 1e-06\n",
      "Testing Classifier with 50 samples.\n",
      "Model was saved to: ./models/LinearSVM_20201123_195752.mdl\n",
      "Got 21/50 (42.00%) tests wrong for Linear SVM.\n",
      "\n",
      "Training/Testing RBF SVM\n",
      "Optimizing parameters...\n",
      "List of parameters: \n",
      "svc__gamma\n",
      "svc__shrinking\n",
      "svc__tol\n",
      "svc__C\n"
     ]
    },
    {
     "name": "stderr",
     "output_type": "stream",
     "text": [
      "<ipython-input-6-e6060f77009d>:16: RuntimeWarning: invalid value encountered in true_divide\n",
      "  sensitivity = np.nan_to_num(true_positives / (true_positives + false_positives))\n"
     ]
    },
    {
     "name": "stdout",
     "output_type": "stream",
     "text": [
      "Optimal Parameters Found to be: \n",
      "svc__C: 0.125\n",
      "svc__gamma: scale\n",
      "svc__shrinking: True\n",
      "svc__tol: 1e-05\n",
      "Testing Classifier with 50 samples.\n",
      "Model was saved to: ./models/RBFSVM_20201123_195753.mdl\n",
      "Got 20/50 (40.00%) tests wrong for RBF SVM.\n",
      "\n",
      "Training/Testing Naive Bayes\n",
      "Optimizing parameters...\n",
      "List of parameters: \n",
      "var_smoothing\n",
      "Optimal Parameters Found to be: \n",
      "var_smoothing: 1e-12\n",
      "Testing Classifier with 50 samples.\n",
      "Model was saved to: ./models/NaiveBayes_20201123_195753.mdl\n",
      "Got 34/50 (68.00%) tests wrong for Naive Bayes.\n",
      "\n",
      "Training/Testing Random Forest\n",
      "Optimizing parameters...\n",
      "List of parameters: \n",
      "ccp_alpha\n",
      "max_features\n",
      "max_depth\n",
      "n_estimators\n"
     ]
    },
    {
     "name": "stderr",
     "output_type": "stream",
     "text": [
      "<ipython-input-6-e6060f77009d>:16: RuntimeWarning: invalid value encountered in true_divide\n",
      "  sensitivity = np.nan_to_num(true_positives / (true_positives + false_positives))\n",
      "<ipython-input-6-e6060f77009d>:17: RuntimeWarning: invalid value encountered in true_divide\n",
      "  specificity = np.nan_to_num(true_negatives / (true_negatives + false_negatives))\n",
      "<ipython-input-6-e6060f77009d>:16: RuntimeWarning: invalid value encountered in true_divide\n",
      "  sensitivity = np.nan_to_num(true_positives / (true_positives + false_positives))\n"
     ]
    },
    {
     "name": "stdout",
     "output_type": "stream",
     "text": [
      "Optimal Parameters Found to be: \n",
      "ccp_alpha: 0.01\n",
      "max_depth: None\n",
      "max_features: auto\n",
      "n_estimators: 60\n",
      "Testing Classifier with 50 samples.\n",
      "Model was saved to: ./models/RandomForest_20201123_195949.mdl\n"
     ]
    },
    {
     "name": "stderr",
     "output_type": "stream",
     "text": [
      "<ipython-input-6-e6060f77009d>:16: RuntimeWarning: invalid value encountered in true_divide\n",
      "  sensitivity = np.nan_to_num(true_positives / (true_positives + false_positives))\n"
     ]
    },
    {
     "name": "stdout",
     "output_type": "stream",
     "text": [
      "Got 23/50 (46.00%) tests wrong for Random Forest.\n",
      "\n",
      "classifier: Linear SVM\n",
      "min_num_prices: 11\n",
      "sensitivity: 0.353015873015873\n",
      "specificity: 0.8720243618891484\n",
      "n_wrong: 21\n",
      "n_tests: 50\n",
      "best_params: {'linearsvc__C': 1.0, 'linearsvc__fit_intercept': True, 'linearsvc__tol': 0.0001}\n",
      "train_size: 0.4\n",
      "classifier: RBF SVM\n",
      "min_num_prices: 11\n",
      "sensitivity: 0.08835341365461848\n",
      "specificity: 0.7590361445783133\n",
      "n_wrong: 20\n",
      "n_tests: 50\n",
      "best_params: {'svc__C': 1.0, 'svc__gamma': 'scale', 'svc__shrinking': True, 'svc__tol': 0.001}\n",
      "train_size: 0.4\n",
      "classifier: Naive Bayes\n",
      "min_num_prices: 11\n",
      "sensitivity: 0.4188112745098039\n",
      "specificity: 0.8940365019820682\n",
      "n_wrong: 34\n",
      "n_tests: 50\n",
      "best_params: {'var_smoothing': 1e-09}\n",
      "train_size: 0.4\n",
      "classifier: Random Forest\n",
      "min_num_prices: 11\n",
      "sensitivity: 0.6060393854511501\n",
      "specificity: 0.9263541923298021\n",
      "n_wrong: 23\n",
      "n_tests: 50\n",
      "best_params: {'ccp_alpha': 0.0, 'max_depth': None, 'max_features': 'auto', 'n_estimators': 100}\n",
      "train_size: 0.4\n",
      "\n",
      "Using CV: 3\n",
      "Training/Testing Linear SVM\n",
      "Optimizing parameters...\n",
      "List of parameters: \n",
      "linearsvc__C\n",
      "linearsvc__fit_intercept\n",
      "linearsvc__tol\n",
      "Optimal Parameters Found to be: \n",
      "linearsvc__C: 0.125\n",
      "linearsvc__fit_intercept: True\n",
      "linearsvc__tol: 1e-06\n",
      "Testing Classifier with 42 samples.\n",
      "Model was saved to: ./models/LinearSVM_20201123_195949.mdl\n",
      "Got 21/42 (50.00%) tests wrong for Linear SVM.\n",
      "\n",
      "Training/Testing RBF SVM\n",
      "Optimizing parameters...\n",
      "List of parameters: \n",
      "svc__gamma\n",
      "svc__shrinking\n",
      "svc__tol\n",
      "svc__C\n"
     ]
    },
    {
     "name": "stderr",
     "output_type": "stream",
     "text": [
      "<ipython-input-6-e6060f77009d>:16: RuntimeWarning: invalid value encountered in true_divide\n",
      "  sensitivity = np.nan_to_num(true_positives / (true_positives + false_positives))\n"
     ]
    },
    {
     "name": "stdout",
     "output_type": "stream",
     "text": [
      "Optimal Parameters Found to be: \n",
      "svc__C: 0.125\n",
      "svc__gamma: scale\n",
      "svc__shrinking: True\n",
      "svc__tol: 1e-05\n",
      "Testing Classifier with 42 samples.\n",
      "Model was saved to: ./models/RBFSVM_20201123_195950.mdl\n",
      "Got 22/42 (52.38%) tests wrong for RBF SVM.\n",
      "\n",
      "Training/Testing Naive Bayes\n",
      "Optimizing parameters...\n",
      "List of parameters: \n",
      "var_smoothing\n",
      "Optimal Parameters Found to be: \n",
      "var_smoothing: 1e-12\n",
      "Testing Classifier with 42 samples.\n",
      "Model was saved to: ./models/NaiveBayes_20201123_195950.mdl\n",
      "Got 20/42 (47.62%) tests wrong for Naive Bayes.\n",
      "\n",
      "Training/Testing Random Forest\n",
      "Optimizing parameters...\n",
      "List of parameters: \n",
      "ccp_alpha\n",
      "max_features\n",
      "max_depth\n",
      "n_estimators\n"
     ]
    },
    {
     "name": "stderr",
     "output_type": "stream",
     "text": [
      "<ipython-input-6-e6060f77009d>:16: RuntimeWarning: invalid value encountered in true_divide\n",
      "  sensitivity = np.nan_to_num(true_positives / (true_positives + false_positives))\n",
      "<ipython-input-6-e6060f77009d>:17: RuntimeWarning: invalid value encountered in true_divide\n",
      "  specificity = np.nan_to_num(true_negatives / (true_negatives + false_negatives))\n",
      "<ipython-input-6-e6060f77009d>:16: RuntimeWarning: invalid value encountered in true_divide\n",
      "  sensitivity = np.nan_to_num(true_positives / (true_positives + false_positives))\n"
     ]
    },
    {
     "name": "stdout",
     "output_type": "stream",
     "text": [
      "Optimal Parameters Found to be: \n",
      "ccp_alpha: 0.01\n",
      "max_depth: None\n",
      "max_features: None\n",
      "n_estimators: 140\n",
      "Testing Classifier with 42 samples.\n",
      "Model was saved to: ./models/RandomForest_20201123_200247.mdl\n",
      "Got 21/42 (50.00%) tests wrong for Random Forest.\n",
      "\n",
      "classifier: Linear SVM\n",
      "min_num_prices: 11\n",
      "sensitivity: 0.25609756097560976\n",
      "specificity: 0.9274169850132236\n",
      "n_wrong: 21\n",
      "n_tests: 42\n",
      "best_params: {'linearsvc__C': 1.0, 'linearsvc__fit_intercept': True, 'linearsvc__tol': 0.0001}\n",
      "train_size: 0.5\n",
      "classifier: RBF SVM\n",
      "min_num_prices: 11\n",
      "sensitivity: 0.08835341365461848\n",
      "specificity: 0.7590361445783133\n",
      "n_wrong: 22\n",
      "n_tests: 42\n",
      "best_params: {'svc__C': 1.0, 'svc__gamma': 'scale', 'svc__shrinking': True, 'svc__tol': 0.001}\n",
      "train_size: 0.5\n",
      "classifier: Naive Bayes\n",
      "min_num_prices: 11\n",
      "sensitivity: 0.4906534384088564\n",
      "specificity: 0.9085237150415723\n",
      "n_wrong: 20\n",
      "n_tests: 42\n",
      "best_params: {'var_smoothing': 1e-09}\n",
      "train_size: 0.5\n",
      "classifier: Random Forest\n",
      "min_num_prices: 11\n",
      "sensitivity: 0.6420454545454546\n",
      "specificity: 0.943211902252998\n",
      "n_wrong: 21\n",
      "n_tests: 42\n",
      "best_params: {'ccp_alpha': 0.0, 'max_depth': None, 'max_features': 'auto', 'n_estimators': 100}\n",
      "train_size: 0.5\n",
      "\n",
      "Using CV: 4\n",
      "Training/Testing Linear SVM\n",
      "Optimizing parameters...\n",
      "List of parameters: \n",
      "linearsvc__C\n",
      "linearsvc__fit_intercept\n",
      "linearsvc__tol\n"
     ]
    },
    {
     "name": "stderr",
     "output_type": "stream",
     "text": [
      "<ipython-input-6-e6060f77009d>:16: RuntimeWarning: invalid value encountered in true_divide\n",
      "  sensitivity = np.nan_to_num(true_positives / (true_positives + false_positives))\n"
     ]
    },
    {
     "name": "stdout",
     "output_type": "stream",
     "text": [
      "Optimal Parameters Found to be: \n",
      "linearsvc__C: 0.175\n",
      "linearsvc__fit_intercept: False\n",
      "linearsvc__tol: 1e-06\n",
      "Testing Classifier with 34 samples.\n",
      "Model was saved to: ./models/LinearSVM_20201123_200247.mdl\n",
      "Got 16/34 (47.06%) tests wrong for Linear SVM.\n",
      "\n",
      "Training/Testing RBF SVM\n",
      "Optimizing parameters...\n",
      "List of parameters: \n",
      "svc__gamma\n",
      "svc__shrinking\n",
      "svc__tol\n",
      "svc__C\n"
     ]
    },
    {
     "name": "stderr",
     "output_type": "stream",
     "text": [
      "<ipython-input-6-e6060f77009d>:16: RuntimeWarning: invalid value encountered in true_divide\n",
      "  sensitivity = np.nan_to_num(true_positives / (true_positives + false_positives))\n"
     ]
    },
    {
     "name": "stdout",
     "output_type": "stream",
     "text": [
      "Optimal Parameters Found to be: \n",
      "svc__C: 0.125\n",
      "svc__gamma: scale\n",
      "svc__shrinking: True\n",
      "svc__tol: 1e-05\n",
      "Testing Classifier with 34 samples.\n",
      "Model was saved to: ./models/RBFSVM_20201123_200249.mdl\n",
      "Got 17/34 (50.00%) tests wrong for RBF SVM.\n",
      "\n",
      "Training/Testing Naive Bayes\n",
      "Optimizing parameters...\n",
      "List of parameters: \n",
      "var_smoothing\n",
      "Optimal Parameters Found to be: \n",
      "var_smoothing: 1e-12\n",
      "Testing Classifier with 34 samples.\n",
      "Model was saved to: ./models/NaiveBayes_20201123_200249.mdl\n",
      "Got 20/34 (58.82%) tests wrong for Naive Bayes.\n",
      "\n",
      "Training/Testing Random Forest\n",
      "Optimizing parameters...\n",
      "List of parameters: \n",
      "ccp_alpha\n",
      "max_features\n",
      "max_depth\n",
      "n_estimators\n"
     ]
    },
    {
     "name": "stderr",
     "output_type": "stream",
     "text": [
      "<ipython-input-6-e6060f77009d>:16: RuntimeWarning: invalid value encountered in true_divide\n",
      "  sensitivity = np.nan_to_num(true_positives / (true_positives + false_positives))\n",
      "<ipython-input-6-e6060f77009d>:17: RuntimeWarning: invalid value encountered in true_divide\n",
      "  specificity = np.nan_to_num(true_negatives / (true_negatives + false_negatives))\n",
      "<ipython-input-6-e6060f77009d>:16: RuntimeWarning: invalid value encountered in true_divide\n",
      "  sensitivity = np.nan_to_num(true_positives / (true_positives + false_positives))\n"
     ]
    },
    {
     "name": "stdout",
     "output_type": "stream",
     "text": [
      "Optimal Parameters Found to be: \n",
      "ccp_alpha: 0.01\n",
      "max_depth: None\n",
      "max_features: auto\n",
      "n_estimators: 140\n",
      "Testing Classifier with 34 samples.\n",
      "Model was saved to: ./models/RandomForest_20201123_200645.mdl\n",
      "Got 17/34 (50.00%) tests wrong for Random Forest.\n",
      "\n",
      "classifier: Linear SVM\n",
      "min_num_prices: 11\n",
      "sensitivity: 0.36849507735583686\n",
      "specificity: 0.8892392741698502\n",
      "n_wrong: 16\n",
      "n_tests: 34\n",
      "best_params: {'linearsvc__C': 1.0, 'linearsvc__fit_intercept': True, 'linearsvc__tol': 0.0001}\n",
      "train_size: 0.6\n",
      "classifier: RBF SVM\n",
      "min_num_prices: 11\n",
      "sensitivity: 0.08835341365461848\n",
      "specificity: 0.7590361445783133\n",
      "n_wrong: 17\n",
      "n_tests: 34\n",
      "best_params: {'svc__C': 1.0, 'svc__gamma': 'scale', 'svc__shrinking': True, 'svc__tol': 0.001}\n",
      "train_size: 0.6\n",
      "classifier: Naive Bayes\n",
      "min_num_prices: 11\n",
      "sensitivity: 0.41578304736199473\n",
      "specificity: 0.896860832232142\n",
      "n_wrong: 20\n",
      "n_tests: 34\n",
      "best_params: {'var_smoothing': 1e-09}\n",
      "train_size: 0.6\n",
      "classifier: Random Forest\n",
      "min_num_prices: 11\n",
      "sensitivity: 0.7372053872053872\n",
      "specificity: 0.9558477046989272\n",
      "n_wrong: 17\n",
      "n_tests: 34\n",
      "best_params: {'ccp_alpha': 0.0, 'max_depth': None, 'max_features': 'auto', 'n_estimators': 100}\n",
      "train_size: 0.6\n",
      "\n",
      "Using CV: 2\n",
      "Training/Testing Linear SVM\n",
      "Optimizing parameters...\n",
      "List of parameters: \n",
      "linearsvc__C\n",
      "linearsvc__fit_intercept\n",
      "linearsvc__tol\n"
     ]
    },
    {
     "name": "stderr",
     "output_type": "stream",
     "text": [
      "<ipython-input-6-e6060f77009d>:16: RuntimeWarning: invalid value encountered in true_divide\n",
      "  sensitivity = np.nan_to_num(true_positives / (true_positives + false_positives))\n"
     ]
    },
    {
     "name": "stdout",
     "output_type": "stream",
     "text": [
      "Optimal Parameters Found to be: \n",
      "linearsvc__C: 0.32499999999999996\n",
      "linearsvc__fit_intercept: False\n",
      "linearsvc__tol: 1e-06\n",
      "Testing Classifier with 25 samples.\n",
      "Model was saved to: ./models/LinearSVM_20201123_200645.mdl\n",
      "Got 13/25 (52.00%) tests wrong for Linear SVM.\n",
      "\n",
      "Training/Testing RBF SVM\n",
      "Optimizing parameters...\n",
      "List of parameters: \n",
      "svc__gamma\n",
      "svc__shrinking\n",
      "svc__tol\n",
      "svc__C\n"
     ]
    },
    {
     "name": "stderr",
     "output_type": "stream",
     "text": [
      "<ipython-input-6-e6060f77009d>:16: RuntimeWarning: invalid value encountered in true_divide\n",
      "  sensitivity = np.nan_to_num(true_positives / (true_positives + false_positives))\n"
     ]
    },
    {
     "name": "stdout",
     "output_type": "stream",
     "text": [
      "Optimal Parameters Found to be: \n",
      "svc__C: 0.125\n",
      "svc__gamma: scale\n",
      "svc__shrinking: True\n",
      "svc__tol: 1e-05\n",
      "Testing Classifier with 25 samples.\n",
      "Model was saved to: ./models/RBFSVM_20201123_200646.mdl\n",
      "Got 13/25 (52.00%) tests wrong for RBF SVM.\n",
      "\n",
      "Training/Testing Naive Bayes\n",
      "Optimizing parameters...\n",
      "List of parameters: \n",
      "var_smoothing\n",
      "Optimal Parameters Found to be: \n",
      "var_smoothing: 1e-12\n",
      "Testing Classifier with 25 samples.\n",
      "Model was saved to: ./models/NaiveBayes_20201123_200646.mdl\n",
      "Got 12/25 (48.00%) tests wrong for Naive Bayes.\n",
      "\n",
      "Training/Testing Random Forest\n",
      "Optimizing parameters...\n",
      "List of parameters: \n",
      "ccp_alpha\n",
      "max_features\n",
      "max_depth\n",
      "n_estimators\n"
     ]
    },
    {
     "name": "stderr",
     "output_type": "stream",
     "text": [
      "<ipython-input-6-e6060f77009d>:16: RuntimeWarning: invalid value encountered in true_divide\n",
      "  sensitivity = np.nan_to_num(true_positives / (true_positives + false_positives))\n",
      "<ipython-input-6-e6060f77009d>:17: RuntimeWarning: invalid value encountered in true_divide\n",
      "  specificity = np.nan_to_num(true_negatives / (true_negatives + false_negatives))\n",
      "<ipython-input-6-e6060f77009d>:16: RuntimeWarning: invalid value encountered in true_divide\n",
      "  sensitivity = np.nan_to_num(true_positives / (true_positives + false_positives))\n"
     ]
    },
    {
     "name": "stdout",
     "output_type": "stream",
     "text": [
      "Optimal Parameters Found to be: \n",
      "ccp_alpha: 0.01\n",
      "max_depth: 3\n",
      "max_features: auto\n",
      "n_estimators: 120\n",
      "Testing Classifier with 25 samples.\n",
      "Model was saved to: ./models/RandomForest_20201123_200852.mdl\n",
      "Got 13/25 (52.00%) tests wrong for Random Forest.\n",
      "\n",
      "classifier: Linear SVM\n",
      "min_num_prices: 11\n",
      "sensitivity: 0.17405063291139242\n",
      "specificity: 0.8873405012454884\n",
      "n_wrong: 13\n",
      "n_tests: 25\n",
      "best_params: {'linearsvc__C': 1.0, 'linearsvc__fit_intercept': True, 'linearsvc__tol': 0.0001}\n",
      "train_size: 0.7000000000000001\n",
      "classifier: RBF SVM\n",
      "min_num_prices: 11\n",
      "sensitivity: 0.08835341365461848\n",
      "specificity: 0.7590361445783133\n",
      "n_wrong: 13\n",
      "n_tests: 25\n",
      "best_params: {'svc__C': 1.0, 'svc__gamma': 'scale', 'svc__shrinking': True, 'svc__tol': 0.001}\n",
      "train_size: 0.7000000000000001\n",
      "classifier: Naive Bayes\n",
      "min_num_prices: 11\n",
      "sensitivity: 0.4888888888888889\n",
      "specificity: 0.9161270619358856\n",
      "n_wrong: 12\n",
      "n_tests: 25\n",
      "best_params: {'var_smoothing': 1e-09}\n",
      "train_size: 0.7000000000000001\n",
      "classifier: Random Forest\n",
      "min_num_prices: 11\n",
      "sensitivity: 0.39166666666666666\n",
      "specificity: 0.9201359283286994\n",
      "n_wrong: 13\n",
      "n_tests: 25\n",
      "best_params: {'ccp_alpha': 0.0, 'max_depth': None, 'max_features': 'auto', 'n_estimators': 100}\n",
      "train_size: 0.7000000000000001\n",
      "\n",
      "Using CV: 2\n",
      "Training/Testing Linear SVM\n",
      "Optimizing parameters...\n",
      "List of parameters: \n",
      "linearsvc__C\n",
      "linearsvc__fit_intercept\n",
      "linearsvc__tol\n"
     ]
    },
    {
     "name": "stderr",
     "output_type": "stream",
     "text": [
      "<ipython-input-6-e6060f77009d>:16: RuntimeWarning: invalid value encountered in true_divide\n",
      "  sensitivity = np.nan_to_num(true_positives / (true_positives + false_positives))\n"
     ]
    },
    {
     "name": "stdout",
     "output_type": "stream",
     "text": [
      "Optimal Parameters Found to be: \n",
      "linearsvc__C: 0.15\n",
      "linearsvc__fit_intercept: False\n",
      "linearsvc__tol: 1e-06\n",
      "Testing Classifier with 17 samples.\n",
      "Model was saved to: ./models/LinearSVM_20201123_200852.mdl\n",
      "Got 11/17 (64.71%) tests wrong for Linear SVM.\n",
      "\n",
      "Training/Testing RBF SVM\n",
      "Optimizing parameters...\n",
      "List of parameters: \n",
      "svc__gamma\n",
      "svc__shrinking\n",
      "svc__tol\n",
      "svc__C\n"
     ]
    },
    {
     "name": "stderr",
     "output_type": "stream",
     "text": [
      "<ipython-input-6-e6060f77009d>:16: RuntimeWarning: invalid value encountered in true_divide\n",
      "  sensitivity = np.nan_to_num(true_positives / (true_positives + false_positives))\n",
      "<ipython-input-6-e6060f77009d>:17: RuntimeWarning: invalid value encountered in true_divide\n",
      "  specificity = np.nan_to_num(true_negatives / (true_negatives + false_negatives))\n"
     ]
    },
    {
     "name": "stdout",
     "output_type": "stream",
     "text": [
      "Optimal Parameters Found to be: \n",
      "svc__C: 0.125\n",
      "svc__gamma: scale\n",
      "svc__shrinking: True\n",
      "svc__tol: 1e-05\n",
      "Testing Classifier with 17 samples.\n",
      "Model was saved to: ./models/RBFSVM_20201123_200854.mdl\n",
      "Got 11/17 (64.71%) tests wrong for RBF SVM.\n",
      "\n",
      "Training/Testing Naive Bayes\n",
      "Optimizing parameters...\n",
      "List of parameters: \n",
      "var_smoothing\n",
      "Optimal Parameters Found to be: \n",
      "var_smoothing: 1e-12\n",
      "Testing Classifier with 17 samples.\n",
      "Model was saved to: ./models/NaiveBayes_20201123_200854.mdl\n",
      "Got 10/17 (58.82%) tests wrong for Naive Bayes.\n",
      "\n",
      "Training/Testing Random Forest\n",
      "Optimizing parameters...\n",
      "List of parameters: \n",
      "ccp_alpha\n",
      "max_features\n",
      "max_depth\n",
      "n_estimators\n"
     ]
    },
    {
     "name": "stderr",
     "output_type": "stream",
     "text": [
      "<ipython-input-6-e6060f77009d>:16: RuntimeWarning: invalid value encountered in true_divide\n",
      "  sensitivity = np.nan_to_num(true_positives / (true_positives + false_positives))\n",
      "<ipython-input-6-e6060f77009d>:17: RuntimeWarning: invalid value encountered in true_divide\n",
      "  specificity = np.nan_to_num(true_negatives / (true_negatives + false_negatives))\n",
      "<ipython-input-6-e6060f77009d>:16: RuntimeWarning: invalid value encountered in true_divide\n",
      "  sensitivity = np.nan_to_num(true_positives / (true_positives + false_positives))\n"
     ]
    },
    {
     "name": "stdout",
     "output_type": "stream",
     "text": [
      "Optimal Parameters Found to be: \n",
      "ccp_alpha: 0.01\n",
      "max_depth: 7\n",
      "max_features: auto\n",
      "n_estimators: 130\n",
      "Testing Classifier with 17 samples.\n",
      "Model was saved to: ./models/RandomForest_20201123_201051.mdl\n",
      "Got 11/17 (64.71%) tests wrong for Random Forest.\n",
      "\n",
      "classifier: Linear SVM\n",
      "min_num_prices: 11\n",
      "sensitivity: 0.08835341365461848\n",
      "specificity: 0.7590361445783133\n",
      "n_wrong: 11\n",
      "n_tests: 17\n",
      "best_params: {'linearsvc__C': 1.0, 'linearsvc__fit_intercept': True, 'linearsvc__tol': 0.0001}\n",
      "train_size: 0.8\n",
      "classifier: RBF SVM\n",
      "min_num_prices: 11\n",
      "sensitivity: 0.08835341365461848\n",
      "specificity: 0.7590361445783133\n",
      "n_wrong: 11\n",
      "n_tests: 17\n",
      "best_params: {'svc__C': 1.0, 'svc__gamma': 'scale', 'svc__shrinking': True, 'svc__tol': 0.001}\n",
      "train_size: 0.8\n",
      "classifier: Naive Bayes\n",
      "min_num_prices: 11\n",
      "sensitivity: 0.5488196594427245\n",
      "specificity: 0.9028782540962651\n",
      "n_wrong: 10\n",
      "n_tests: 17\n",
      "best_params: {'var_smoothing': 1e-09}\n",
      "train_size: 0.8\n",
      "classifier: Random Forest\n",
      "min_num_prices: 11\n",
      "sensitivity: 0.7867352773013151\n",
      "specificity: 0.972496751137102\n",
      "n_wrong: 11\n",
      "n_tests: 17\n",
      "best_params: {'ccp_alpha': 0.0, 'max_depth': None, 'max_features': 'auto', 'n_estimators': 100}\n",
      "train_size: 0.8\n",
      "\n",
      "Using CV: 2\n",
      "Training/Testing Linear SVM\n",
      "Optimizing parameters...\n",
      "List of parameters: \n",
      "linearsvc__C\n",
      "linearsvc__fit_intercept\n",
      "linearsvc__tol\n"
     ]
    },
    {
     "name": "stderr",
     "output_type": "stream",
     "text": [
      "<ipython-input-6-e6060f77009d>:16: RuntimeWarning: invalid value encountered in true_divide\n",
      "  sensitivity = np.nan_to_num(true_positives / (true_positives + false_positives))\n"
     ]
    },
    {
     "name": "stdout",
     "output_type": "stream",
     "text": [
      "Optimal Parameters Found to be: \n",
      "linearsvc__C: 0.125\n",
      "linearsvc__fit_intercept: False\n",
      "linearsvc__tol: 1e-06\n",
      "Testing Classifier with 9 samples.\n",
      "Model was saved to: ./models/LinearSVM_20201123_201051.mdl\n",
      "Got 6/9 (66.67%) tests wrong for Linear SVM.\n",
      "\n",
      "Training/Testing RBF SVM\n",
      "Optimizing parameters...\n",
      "List of parameters: \n",
      "svc__gamma\n",
      "svc__shrinking\n",
      "svc__tol\n",
      "svc__C\n"
     ]
    },
    {
     "name": "stderr",
     "output_type": "stream",
     "text": [
      "<ipython-input-6-e6060f77009d>:16: RuntimeWarning: invalid value encountered in true_divide\n",
      "  sensitivity = np.nan_to_num(true_positives / (true_positives + false_positives))\n",
      "<ipython-input-6-e6060f77009d>:17: RuntimeWarning: invalid value encountered in true_divide\n",
      "  specificity = np.nan_to_num(true_negatives / (true_negatives + false_negatives))\n"
     ]
    },
    {
     "name": "stdout",
     "output_type": "stream",
     "text": [
      "Optimal Parameters Found to be: \n",
      "svc__C: 0.125\n",
      "svc__gamma: scale\n",
      "svc__shrinking: True\n",
      "svc__tol: 1e-05\n",
      "Testing Classifier with 9 samples.\n",
      "Model was saved to: ./models/RBFSVM_20201123_201052.mdl\n",
      "Got 6/9 (66.67%) tests wrong for RBF SVM.\n",
      "\n",
      "Training/Testing Naive Bayes\n",
      "Optimizing parameters...\n",
      "List of parameters: \n",
      "var_smoothing\n",
      "Optimal Parameters Found to be: \n",
      "var_smoothing: 1e-12\n",
      "Testing Classifier with 9 samples.\n",
      "Model was saved to: ./models/NaiveBayes_20201123_201052.mdl\n",
      "Got 4/9 (44.44%) tests wrong for Naive Bayes.\n",
      "\n",
      "Training/Testing Random Forest\n",
      "Optimizing parameters...\n",
      "List of parameters: \n",
      "ccp_alpha\n",
      "max_features\n",
      "max_depth\n",
      "n_estimators\n"
     ]
    },
    {
     "name": "stderr",
     "output_type": "stream",
     "text": [
      "<ipython-input-6-e6060f77009d>:16: RuntimeWarning: invalid value encountered in true_divide\n",
      "  sensitivity = np.nan_to_num(true_positives / (true_positives + false_positives))\n",
      "<ipython-input-6-e6060f77009d>:17: RuntimeWarning: invalid value encountered in true_divide\n",
      "  specificity = np.nan_to_num(true_negatives / (true_negatives + false_negatives))\n",
      "<ipython-input-6-e6060f77009d>:16: RuntimeWarning: invalid value encountered in true_divide\n",
      "  sensitivity = np.nan_to_num(true_positives / (true_positives + false_positives))\n"
     ]
    },
    {
     "name": "stdout",
     "output_type": "stream",
     "text": [
      "Optimal Parameters Found to be: \n",
      "ccp_alpha: 0.01\n",
      "max_depth: None\n",
      "max_features: None\n",
      "n_estimators: 140\n",
      "Testing Classifier with 9 samples.\n",
      "Model was saved to: ./models/RandomForest_20201123_201248.mdl\n",
      "Got 5/9 (55.56%) tests wrong for Random Forest.\n",
      "\n",
      "classifier: Linear SVM\n",
      "min_num_prices: 11\n",
      "sensitivity: 0.08835341365461848\n",
      "specificity: 0.7590361445783133\n",
      "n_wrong: 6\n",
      "n_tests: 9\n",
      "best_params: {'linearsvc__C': 1.0, 'linearsvc__fit_intercept': True, 'linearsvc__tol': 0.0001}\n",
      "train_size: 0.9\n",
      "classifier: RBF SVM\n",
      "min_num_prices: 11\n",
      "sensitivity: 0.08835341365461848\n",
      "specificity: 0.7590361445783133\n",
      "n_wrong: 6\n",
      "n_tests: 9\n",
      "best_params: {'svc__C': 1.0, 'svc__gamma': 'scale', 'svc__shrinking': True, 'svc__tol': 0.001}\n",
      "train_size: 0.9\n",
      "classifier: Naive Bayes\n",
      "min_num_prices: 11\n",
      "sensitivity: 0.47345679012345676\n",
      "specificity: 0.9066793784602004\n",
      "n_wrong: 4\n",
      "n_tests: 9\n",
      "best_params: {'var_smoothing': 1e-09}\n",
      "train_size: 0.9\n",
      "classifier: Random Forest\n",
      "min_num_prices: 11\n",
      "sensitivity: 0.8072441742654508\n",
      "specificity: 0.986817738791423\n",
      "n_wrong: 5\n",
      "n_tests: 9\n",
      "best_params: {'ccp_alpha': 0.0, 'max_depth': None, 'max_features': 'auto', 'n_estimators': 100}\n",
      "train_size: 0.9\n",
      "\n",
      "Saved results to ./results/results_20201123_201248.json\n"
     ]
    },
    {
     "name": "stderr",
     "output_type": "stream",
     "text": [
      "<ipython-input-6-e6060f77009d>:16: RuntimeWarning: invalid value encountered in true_divide\n",
      "  sensitivity = np.nan_to_num(true_positives / (true_positives + false_positives))\n"
     ]
    }
   ],
   "source": [
    "training_sizes = np.arange(.1, .91, .1)\n",
    "results = []\n",
    "for training_size in training_sizes:\n",
    "    curr_results = train_all_classifiers(all_X, all_y, training_size)\n",
    "    results.extend(curr_results)\n",
    "    print('')\n",
    "\n",
    "utility.save_results(results)"
   ]
  },
  {
   "cell_type": "code",
   "execution_count": null,
   "metadata": {},
   "outputs": [],
   "source": []
  }
 ],
 "metadata": {
  "kernelspec": {
   "display_name": "Python 3",
   "language": "python",
   "name": "python3"
  },
  "language_info": {
   "codemirror_mode": {
    "name": "ipython",
    "version": 3
   },
   "file_extension": ".py",
   "mimetype": "text/x-python",
   "name": "python",
   "nbconvert_exporter": "python",
   "pygments_lexer": "ipython3",
   "version": "3.8.5"
  }
 },
 "nbformat": 4,
 "nbformat_minor": 1
}
