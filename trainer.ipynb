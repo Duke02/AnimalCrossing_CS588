{
 "cells": [
  {
   "cell_type": "code",
   "execution_count": 1,
   "metadata": {},
   "outputs": [],
   "source": [
    "from get_data import get_structured_data\n",
    "import utility\n",
    "from classifiers import *\n",
    "from sklearn.model_selection import train_test_split\n",
    "from constants import RANDOM_STATE, CV\n",
    "from sklearn.model_selection import GridSearchCV"
   ]
  },
  {
   "cell_type": "code",
   "execution_count": 2,
   "metadata": {},
   "outputs": [
    {
     "data": {
      "text/plain": [
       "((310, 12), (310, 1))"
      ]
     },
     "execution_count": 2,
     "metadata": {},
     "output_type": "execute_result"
    }
   ],
   "source": [
    "rows = get_structured_data()\n",
    "X, y = utility.get_all_data(rows)\n",
    "X.shape, y.shape"
   ]
  },
  {
   "cell_type": "code",
   "execution_count": 3,
   "metadata": {},
   "outputs": [],
   "source": [
    "classifiers = [get_linear_svm_classifier(), get_rbf_svm_classifier(), get_naive_bayes_classifier(), get_random_forest_classifier()]\n",
    "\n",
    "train_x, test_x, train_y, test_y = train_test_split(X, y, test_size=.25, random_state=RANDOM_STATE)"
   ]
  },
  {
   "cell_type": "code",
   "execution_count": 4,
   "metadata": {},
   "outputs": [
    {
     "name": "stdout",
     "output_type": "stream",
     "text": [
      "Classifier: Linear SVM\n",
      "Optimizing parameters...\n",
      "List of parameters: \n",
      "linearsvc__C\n",
      "linearsvc__fit_intercept\n",
      "linearsvc__tol\n",
      "Optimal Parameters Found to be: \n",
      "linearsvc__C: 0.25\n",
      "linearsvc__fit_intercept: True\n",
      "linearsvc__tol: 1e-05\n",
      "Testing Classifier with 78 samples.\n",
      "Got 24/78 (30.77%) tests wrong.\n",
      "\n",
      "Classifier: RBF SVM\n",
      "Optimizing parameters...\n",
      "List of parameters: \n",
      "svc__gamma\n",
      "svc__shrinking\n",
      "svc__tol\n",
      "svc__C\n",
      "Optimal Parameters Found to be: \n",
      "svc__C: 0.25\n",
      "svc__gamma: scale\n",
      "svc__shrinking: True\n",
      "svc__tol: 5e-05\n",
      "Testing Classifier with 78 samples.\n",
      "Got 23/78 (29.49%) tests wrong.\n",
      "\n",
      "Classifier: Naive Bayes\n",
      "Optimizing parameters...\n",
      "List of parameters: \n",
      "var_smoothing\n",
      "Optimal Parameters Found to be: \n",
      "var_smoothing: 1e-10\n",
      "Testing Classifier with 78 samples.\n",
      "Got 51/78 (65.38%) tests wrong.\n",
      "\n",
      "Classifier: Random Forest\n",
      "Optimizing parameters...\n",
      "List of parameters: \n",
      "ccp_alpha\n",
      "max_features\n",
      "max_depth\n",
      "n_estimators\n",
      "Optimal Parameters Found to be: \n",
      "ccp_alpha: 0.02\n",
      "max_depth: 5\n",
      "max_features: auto\n",
      "n_estimators: 100\n",
      "Testing Classifier with 78 samples.\n",
      "Got 23/78 (29.49%) tests wrong.\n",
      "\n"
     ]
    }
   ],
   "source": [
    "for class_name, classifier, params in classifiers:\n",
    "    print(f'Classifier: {class_name}')\n",
    "    \n",
    "    print(f'Optimizing parameters...')\n",
    "    param_keys = '\\n'.join([k for k in params.keys()])\n",
    "    print(f'List of parameters: \\n{param_keys}')\n",
    "    grid = GridSearchCV(classifier, params, cv=CV)\n",
    "    grid.fit(train_x, train_y.reshape(-1))\n",
    "    model = grid.best_estimator_\n",
    "    print(f'Optimal Parameters Found to be: ')\n",
    "    print('\\n'.join([f'{k}: {v}' for k, v in grid.best_params_.items()]))\n",
    "    \n",
    "    \n",
    "    model.fit(train_x, train_y.reshape(-1))\n",
    "    \n",
    "    print(f'Testing Classifier with {test_x.shape[0]} samples.')\n",
    "    y_pred = model.predict(test_x)\n",
    "    n_tests = test_y.shape[0]\n",
    "    num_wrong = (y_pred != test_y.reshape(-1)).sum()\n",
    "    \n",
    "    print(f'Got {num_wrong}/{n_tests} ({num_wrong / n_tests:.2%}) tests wrong.')\n",
    "    print('')"
   ]
  },
  {
   "cell_type": "code",
   "execution_count": null,
   "metadata": {},
   "outputs": [],
   "source": []
  }
 ],
 "metadata": {
  "kernelspec": {
   "display_name": "Python 3",
   "language": "python",
   "name": "python3"
  },
  "language_info": {
   "codemirror_mode": {
    "name": "ipython",
    "version": 3
   },
   "file_extension": ".py",
   "mimetype": "text/x-python",
   "name": "python",
   "nbconvert_exporter": "python",
   "pygments_lexer": "ipython3",
   "version": "3.8.5"
  }
 },
 "nbformat": 4,
 "nbformat_minor": 1
}
